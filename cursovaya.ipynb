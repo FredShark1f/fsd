{
 "cells": [
  {
   "cell_type": "code",
   "execution_count": 19,
   "metadata": {},
   "outputs": [
    {
     "name": "stdout",
     "output_type": "stream",
     "text": [
      "Номер заказа: 1001\n",
      "Дата заказа:  2024-01-10\n",
      "Название товара:  Смартфон XYZ\n",
      "Категория товара:  Электроника\n",
      "Количество продаж:  2\n",
      "Цена за единицу:  50000\n",
      "Общая стоимость:  100000\n",
      "----------------------------------------\n",
      "Номер заказа: 1002\n",
      "Дата заказа:  2024-01-11\n",
      "Название товара:  Ноутбук ABC\n",
      "Категория товара:  Электроника\n",
      "Количество продаж:  1\n",
      "Цена за единицу:  70000\n",
      "Общая стоимость:  70000\n",
      "----------------------------------------\n",
      "Номер заказа: 1003\n",
      "Дата заказа:  2024-01-12\n",
      "Название товара:  Футболка Nike\n",
      "Категория товара:  Одежда\n",
      "Количество продаж:  5\n",
      "Цена за единицу:  2000\n",
      "Общая стоимость:  10000\n",
      "----------------------------------------\n",
      "Номер заказа: 1004\n",
      "Дата заказа:  2024-01-13\n",
      "Название товара:  Кнструктор\n",
      "Категория товара:  Игрушки\n",
      "Количество продаж:  4\n",
      "Цена за единицу:  5000\n",
      "Общая стоимость:  20000\n",
      "----------------------------------------\n",
      "Номер заказа: 1005\n",
      "Дата заказа:  2024-01-14\n",
      "Название товара:  Робот-кот\n",
      "Категория товара:  игрушки\n",
      "Количество продаж:  3\n",
      "Цена за единицу:  5000\n",
      "Общая стоимость:  15000 \n",
      "----------------------------------------\n",
      "Номер заказа: 1006\n",
      "Дата заказа:  2024-01-15\n",
      "Название товара:  Игровая приставка\n",
      "Категория товара:  Электроника\n",
      "Количество продаж:  2\n",
      "Цена за единицу:  30000\n",
      "Общая стоимость:  60000\n",
      "----------------------------------------\n",
      "Номер заказа: 1007\n",
      "Дата заказа:  2024-01-16\n",
      "Название товара:  Джинсы Levi's\n",
      "Категория товара:  Одежда\n",
      "Количество продаж:  2\n",
      "Цена за единицу:  4000\n",
      "Общая стоимость:  8000\n",
      "----------------------------------------\n",
      "Номер заказа: 1008\n",
      "Дата заказа:  2024-01-17\n",
      "Название товара:  Пазл 1000 деталей\n",
      "Категория товара:  Игрушки\n",
      "Количество продаж:  6\n",
      "Цена за единицу:  1000\n",
      "Общая стоимость:  6000\n",
      "----------------------------------------\n",
      "Номер заказа: 1009\n",
      "Дата заказа:  2024-01-18\n",
      "Название товара:  Умные часы\n",
      "Категория товара:  Электроника\n",
      "Количество продаж:  3\n",
      "Цена за единицу:  15000\n",
      "Общая стоимость:  45000\n",
      "----------------------------------------\n",
      "Номер заказа: 1010\n",
      "Дата заказа:  2024-01-19\n",
      "Название товара:  Кукла Барби\n",
      "Категория товара:  Игрушки\n",
      "Количество продаж:  7\n",
      "Цена за единицу:  2500\n",
      "Общая стоимость:  17500\n",
      "----------------------------------------\n"
     ]
    }
   ],
   "source": [
    "import csv \n",
    "from collections import defaultdict \n",
    "\n",
    "\n",
    "# Определяем путь к CSV файлу \n",
    "filecsv = 'data1.csv' \n",
    "\n",
    "# Читаем данные из CSV файла \n",
    "def read_sales_data(file_path): \n",
    "    with open('data1.csv','r', encoding='utf-8') as file: \n",
    "        csv_reader = csv.DictReader(file) \n",
    "        sales_data = [] \n",
    "        for row in csv_reader: \n",
    "            sales_data.append(row) \n",
    "    return sales_data \n",
    "\n",
    "# Выводим данные на экран \n",
    "def print_sales_data(sales_data): \n",
    "    for sale in sales_data: \n",
    "        print(f\"Номер заказа: {sale['Номер заказа']}\") \n",
    "        print(f\"Дата заказа: {sale['Дата заказа']}\") \n",
    "        print(f\"Название товара: {sale['Название товара']}\") \n",
    "        print(f\"Категория товара: {sale['Категория товара']}\") \n",
    "        print(f\"Количество продаж: {sale['Количество продаж']}\") \n",
    "        print(f\"Цена за единицу: {sale['Цена за единицу']}\") \n",
    "        print(f\"Общая стоимость: {sale['Общая стоимость']}\") \n",
    "        print(\"-\" * 40) \n",
    "\n",
    "if __name__ == \"__main__\": \n",
    "    sales_data = read_sales_data(filecsv) \n",
    "    print_sales_data(sales_data)"
   ]
  },
  {
   "cell_type": "code",
   "execution_count": 21,
   "metadata": {},
   "outputs": [
    {
     "name": "stdout",
     "output_type": "stream",
     "text": [
      "Общая выручка магазина: 351500 рублей\n"
     ]
    }
   ],
   "source": [
    "import csv\n",
    "\n",
    "def calculate_total_revenue(csv_file_path):\n",
    "    total_revenue = 0\n",
    "\n",
    "    with open(csv_file_path, newline='', encoding='utf-8') as csvfile:\n",
    "        reader = csv.DictReader(csvfile)\n",
    "        for row in reader:\n",
    "            total_revenue += int(row['Общая стоимость'])\n",
    "    \n",
    "    return total_revenue\n",
    "\n",
    "# Путь к вашему CSV файлу\n",
    "csv_file_path = 'data1.csv'\n",
    "\n",
    "# Вычисляем общую выручку\n",
    "total_revenue = calculate_total_revenue(csv_file_path)\n",
    "print(f'Общая выручка магазина: {total_revenue} рублей')\n"
   ]
  },
  {
   "cell_type": "code",
   "execution_count": 22,
   "metadata": {},
   "outputs": [
    {
     "name": "stdout",
     "output_type": "stream",
     "text": [
      "Товар, который был продан наибольшее количество раз:  Кукла Барби (Количество продаж: 7)\n"
     ]
    }
   ],
   "source": [
    "import csv\n",
    "\n",
    "def find_top_selling_product(csv_file_path):\n",
    "    max_sales = 0\n",
    "    top_product = None\n",
    "\n",
    "    with open(csv_file_path, newline='', encoding='utf-8') as csvfile:\n",
    "        reader = csv.DictReader(csvfile)\n",
    "        for row in reader:\n",
    "            quantity_sold = int(row['Количество продаж'])\n",
    "            if quantity_sold > max_sales:\n",
    "                max_sales = quantity_sold\n",
    "                top_product = row['Название товара']\n",
    "    \n",
    "    return top_product, max_sales\n",
    "\n",
    "# Путь к вашему CSV файлу\n",
    "csv_file_path = 'data1.csv'\n",
    "\n",
    "# Находим товар, который был продан наибольшее количество раз\n",
    "top_product, max_sales = find_top_selling_product(csv_file_path)\n",
    "print(f'Товар, который был продан наибольшее количество раз: {top_product} (Количество продаж: {max_sales})')\n"
   ]
  },
  {
   "cell_type": "code",
   "execution_count": 23,
   "metadata": {},
   "outputs": [
    {
     "name": "stdout",
     "output_type": "stream",
     "text": [
      "Товар, который принес наибольшую выручку:  Смартфон XYZ (Выручка: 100000 рублей)\n"
     ]
    }
   ],
   "source": [
    "import csv\n",
    "\n",
    "def find_top_revenue_product(csv_file_path):\n",
    "    max_revenue = 0\n",
    "    top_revenue_product = None\n",
    "\n",
    "    with open(csv_file_path, newline='', encoding='utf-8') as csvfile:\n",
    "        reader = csv.DictReader(csvfile)\n",
    "        for row in reader:\n",
    "            revenue = int(row['Общая стоимость'])\n",
    "            if revenue > max_revenue:\n",
    "                max_revenue = revenue\n",
    "                top_revenue_product = row['Название товара']\n",
    "    \n",
    "    return top_revenue_product, max_revenue\n",
    "\n",
    "# Путь к вашему CSV файлу\n",
    "csv_file_path = 'data1.csv'\n",
    "\n",
    "# Находим товар, который принес наибольшую выручку\n",
    "top_revenue_product, max_revenue = find_top_revenue_product(csv_file_path)\n",
    "print(f'Товар, который принес наибольшую выручку: {top_revenue_product} (Выручка: {max_revenue} рублей)')\n"
   ]
  },
  {
   "cell_type": "code",
   "execution_count": 24,
   "metadata": {},
   "outputs": [
    {
     "name": "stdout",
     "output_type": "stream",
     "text": [
      "Товары с категорией 'Одежда':\n",
      "Название товара:  Футболка Nike, Количество продаж:  5, Цена за единицу:  2000, Общая стоимость:  10000\n",
      "Название товара:  Джинсы Levi's, Количество продаж:  2, Цена за единицу:  4000, Общая стоимость:  8000\n"
     ]
    }
   ],
   "source": [
    "import csv\n",
    "\n",
    "def find_clothing_products(csv_file_path):\n",
    "    clothing_products = []\n",
    "\n",
    "    with open(csv_file_path, newline='', encoding='utf-8') as csvfile:\n",
    "        reader = csv.DictReader(csvfile)\n",
    "        for row in reader:\n",
    "            if row['Категория товара'].strip().lower() == 'одежда':\n",
    "                clothing_products.append(row)\n",
    "    \n",
    "    return clothing_products\n",
    "\n",
    "# Путь к вашему CSV файлу\n",
    "csv_file_path = 'data1.csv'\n",
    "\n",
    "# Находим все товары с категорией \"Одежда\"\n",
    "clothing_products = find_clothing_products(csv_file_path)\n",
    "\n",
    "# Выводим найденные товары\n",
    "print(\"Товары с категорией 'Одежда':\")\n",
    "for product in clothing_products:\n",
    "    print(f\"Название товара: {product['Название товара']}, Количество продаж: {product['Количество продаж']}, Цена за единицу: {product['Цена за единицу']}, Общая стоимость: {product['Общая стоимость']}\")\n"
   ]
  },
  {
   "cell_type": "code",
   "execution_count": 25,
   "metadata": {},
   "outputs": [
    {
     "name": "stdout",
     "output_type": "stream",
     "text": [
      "Товар с наименьшей выручкой:  Пазл 1000 деталей (Выручка: 6000 рублей)\n"
     ]
    }
   ],
   "source": [
    "import csv\n",
    "\n",
    "def find_lowest_revenue_product(csv_file_path):\n",
    "    min_revenue = float('inf')\n",
    "    lowest_revenue_product = None\n",
    "\n",
    "    with open(csv_file_path, newline='', encoding='utf-8') as csvfile:\n",
    "        reader = csv.DictReader(csvfile)\n",
    "        for row in reader:\n",
    "            revenue = int(row['Общая стоимость'])\n",
    "            if revenue < min_revenue:\n",
    "                min_revenue = revenue\n",
    "                lowest_revenue_product = row['Название товара']\n",
    "    \n",
    "    return lowest_revenue_product, min_revenue\n",
    "\n",
    "# Путь к вашему CSV файлу\n",
    "csv_file_path = 'data1.csv'\n",
    "\n",
    "# Находим товар с наименьшей выручкой\n",
    "lowest_revenue_product, min_revenue = find_lowest_revenue_product(csv_file_path)\n",
    "print(f'Товар с наименьшей выручкой: {lowest_revenue_product} (Выручка: {min_revenue} рублей)')\n"
   ]
  }
 ],
 "metadata": {
  "kernelspec": {
   "display_name": "Python 3",
   "language": "python",
   "name": "python3"
  },
  "language_info": {
   "codemirror_mode": {
    "name": "ipython",
    "version": 3
   },
   "file_extension": ".py",
   "mimetype": "text/x-python",
   "name": "python",
   "nbconvert_exporter": "python",
   "pygments_lexer": "ipython3",
   "version": "3.11.9"
  }
 },
 "nbformat": 4,
 "nbformat_minor": 2
}
